{
 "cells": [
  {
   "cell_type": "markdown",
   "metadata": {},
   "source": [
    "# `Watchlist insert` Worksheet"
   ]
  },
  {
   "cell_type": "markdown",
   "metadata": {},
   "source": [
    "## Today\n",
    "* Hw1 is now due Thursday at 11:59 pm\n",
    "* Hw2 is due one week from Th 2/13 at 11:59 pm\n",
    "* Rest of last time's worksheet\n",
    "* Worksheet - `Watchlist insert`"
   ]
  },
  {
   "cell_type": "markdown",
   "metadata": {},
   "source": [
    "## Last time's worksheet"
   ]
  },
  {
   "cell_type": "markdown",
   "metadata": {},
   "source": [
    "Given a variable `list_of_strings`, use a for loop to make a list that contains the first three letters of all of the strings in `list_of_strings`.  Turn it into a list comprehension.\n",
    " \n",
    "E.g. `['batman', 'starlord'] -> ['bat', 'sta']`"
   ]
  },
  {
   "cell_type": "markdown",
   "metadata": {},
   "source": [
    "Given a variable `list_of_ints`, use a `for` loop to make a list that contains the squares of all of the numbers in `list_of_ints`.  Turn it into a list comprehension.\n",
    " \n",
    "E.g. `[1, 2, 3] -> [1, 4, 9]`\n"
   ]
  },
  {
   "cell_type": "markdown",
   "metadata": {},
   "source": [
    "If you can't understand what a spec is asking for, you can't fulfill it.  So we're going to practice that.  Here is the specification for init from hw1:\n",
    "\n",
    "`class WatchList:`\n",
    "\n",
    "`init`:  This magic method takes a filename that defaults to the empty string.  Initialize an instance variable called `bills` to a dictionary that maps each of the five denominations of interest, represented as strings (i.e. `'5'`, `'10'`, etc.), to an empty list.  If a filename was passed in, each line of the file will represent a bill that we want to add to our watch list dictionary and will be in the format `<serial_number> <denomination>\\n`.  Look at one of the bill files in a text editor to see specific examples.  Append the serial number for each bill in the file to the appropriate list in the dictionary.  A Boolean instance variable called `is_sorted` indicates whether or not the lists in the dictionary are sorted.  Assume that the bill files are not sorted.  Finally, an instance variable called `validator` holds a compiled regular expression that will be used to check for valid serial numbers (see the Introduction above for the rules governing serial numbers).\n",
    "\n",
    "Draw an empty `WatchList` instance.  Draw a `WatchList` with two \\\\$10 bills in it, a \\\\$20 bill, and three \\\\$100 bills."
   ]
  },
  {
   "cell_type": "markdown",
   "metadata": {},
   "source": [
    "Hw2 asks you to implement a parse tree in two different ways.  The `WatchListLinked` class will build its parse tree using the `Node` class you implemented above.  Here is its init:\n",
    "\n",
    "`class WatchListLinked:`\n",
    "\n",
    "`init`:  This magic method takes a filename that defaults to the empty string.  Initialize an instance variable called `root` to a `Node` that has 5 children.  The datum in the node should be the `None` object (let your default arg do the work, don't pass it in).  The data in the 5 children are the 5 denomination strings (i.e. '5', '10', etc.), respectively.  The children have no children of their own.  If a filename was passed in, each line of the file will represent a bill that we want to add to our watch list dictionary and will be in the format `<serial_number> <denomination>\\n`.  Look at one of the bill files in a text editor to see specific examples.  Insert each of the bills into the watch list.  Finally, an instance variable called `validator` holds a compiled regular expression that will be used to check for valid serial numbers (use the same regex as you did in hw1).\n",
    "\n",
    "Draw an empty watch list.  Draw a watch list that has had the following strings parsed and inserted: `\"rock 5\"`, `\"rocket 5\"`, `\"rock'n'roll 5\"`, `\"rocker 5\"`, `\"rocking 5\"`.  The last character in each string will have as one of its children an empty node, i.e. its datum is `None` and it has no children.  This is how we store the fact that we have reached the end of a string so that we can store, for instance, both the strings `\"app\"` and `\"apple\"`."
   ]
  },
  {
   "cell_type": "markdown",
   "metadata": {},
   "source": [
    "Recall the `Node` class that we created on the last worksheet:\n",
    "\n",
    "`class Node:\n",
    "    def __init__(self, datum=None):\n",
    "        self.datum = datum\n",
    "        self.children = []`\n",
    "\n",
    "Write code that creates an empty `WatchListLinked` instance and inserts the strings `\"abc 5\"` and `\"abef 5\"` into it."
   ]
  },
  {
   "cell_type": "markdown",
   "metadata": {},
   "source": [
    "Here is the spec for class `WatchListDict`:\n",
    "\n",
    "`init`:  This magic method takes a filename that defaults to the empty string.  Initialize an instance variable called `root` to a dictionary that maps each of the 5 denomination strings (i.e. `'5'`, `'10'`, etc.) to an empty dictionary.  If a filename was passed in, each line of the file will represent a bill that we want to add to our watch list dictionary and will be in the format `'<serial_number> <denomination>\\n'`.  Look at one of the bill files in a text editor to see specific examples.  Insert each of the bills into the watch list.  Finally, an instance variable called validator holds a compiled regular expression that will be used to check for valid serial numbers (use the same regex as you did in hw1).\n",
    "\n",
    "Draw an empty watch list.  The terminator for a string will be a dictionary that maps `None` to `None`.   Draw a watch list that has had the following strings parsed and inserted: `\"abc 5\"`, `\"abef 5\"`, `\"abcd 5\"`.\n"
   ]
  },
  {
   "cell_type": "markdown",
   "metadata": {},
   "source": [
    "## Worksheet - hardest part of Hw2"
   ]
  },
  {
   "cell_type": "markdown",
   "metadata": {},
   "source": [
    "First, recall our `Node` class.  Then code up the `insert` methods:\n",
    "\n",
    "`class WatchListLinked:`\n",
    "\n",
    "`init`:  This magic method takes a filename that defaults to the empty string.  Initialize an instance variable called `root` to a node that has 5 children.  The datum in the node should be the None object (let your default arg do the work, don't pass it in).  The data in the 5 children are the 5 denomination strings (i.e. `'5'`, `'10'`, etc.), respectively.  The children have no children of their own.  If a filename was passed in, each line of the file will represent a bill that we want to add to our watch list tree and will be in the format `'<serial_number> <denomination>\\n'`.  Look at one of the bill files in a text editor to see specific examples.  Insert each of the bills into the watch list.  Finally, an instance variable called `validator` holds a compiled regular expression that will be used to check for valid serial numbers (use the same regex as you did in hw1).\n",
    "\n",
    "`insert`:  This instance method takes a string representing a serial number and a string representing a denomination.  Insert the bill into the watch list.  We will do this one in class, but it may not be posted.  If you miss that class and you can't figure it out yourself, you will need to get it from another student.\n"
   ]
  },
  {
   "cell_type": "code",
   "execution_count": null,
   "metadata": {},
   "outputs": [],
   "source": [
    "import re"
   ]
  },
  {
   "cell_type": "code",
   "execution_count": null,
   "metadata": {},
   "outputs": [],
   "source": [
    "class WatchListLinked:\n",
    "    def __init__(self, filename=\"\"):\n",
    "        self.root = Node()\n",
    "        self.root.children = [Node('5'), Node('10')...]"
   ]
  },
  {
   "cell_type": "code",
   "execution_count": null,
   "metadata": {},
   "outputs": [],
   "source": [
    "    def insert(self, sn, denom):\n",
    "        current = self.root[domination]\n",
    "        for ch in sn:\n",
    "             \n",
    "            if not next:\n",
    "                next = Node(ch)\n",
    "                current.children.append(next)\n",
    "            current = next\n",
    "        if not current.get_child():\n",
    "            current.children.append(Node)"
   ]
  },
  {
   "cell_type": "markdown",
   "metadata": {},
   "source": [
    "`class WatchListDict:`\n",
    "\n",
    "`init`:  This magic method takes a filename that defaults to the empty string.  Initialize an instance variable called `root` to a dictionary that maps each of the 5 denomination strings (i.e. `'5'`, `'10'`, etc.) to an empty dictionary.  If a filename was passed in, each line of the file will represent a bill that we want to add to our watch list dictionary and will be in the format `'<serial_number> <denomination>\\n'`.  Look at one of the bill files in a text editor to see specific examples.  Insert each of the bills into the watch list.  Finally, an instance variable called `validator` holds a compiled regular expression that will be used to check for valid serial numbers (use the same regex as you did in hw1).\n",
    "\n",
    "`insert`:  This instance method takes a string representing a serial number and a string representing a denomination.  Insert the bill into the watch list.  We will do this one in class, but it will not be posted.  If you miss that class and you can't figure it out yourself, you may need to get it from another student."
   ]
  }
 ],
 "metadata": {
  "kernelspec": {
   "display_name": "Python 3",
   "language": "python",
   "name": "python3"
  },
  "language_info": {
   "codemirror_mode": {
    "name": "ipython",
    "version": 3
   },
   "file_extension": ".py",
   "mimetype": "text/x-python",
   "name": "python",
   "nbconvert_exporter": "python",
   "pygments_lexer": "ipython3",
   "version": "3.7.4"
  }
 },
 "nbformat": 4,
 "nbformat_minor": 2
}
